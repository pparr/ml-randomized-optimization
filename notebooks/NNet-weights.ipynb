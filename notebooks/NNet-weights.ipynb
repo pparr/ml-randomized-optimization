{
 "cells": [
  {
   "cell_type": "code",
   "execution_count": 114,
   "metadata": {},
   "outputs": [],
   "source": [
    "import pandas as pd\n",
    "import seaborn as sns\n",
    "import numpy as np\n",
    "import matplotlib.pyplot as plt\n",
    "from sklearn.model_selection import train_test_split, cross_validate\n",
    "from sklearn.metrics import accuracy_score, make_scorer, balanced_accuracy_score\n",
    "from sklearn.metrics import confusion_matrix, classification_report\n",
    "from sklearn.model_selection import GridSearchCV\n",
    "from sklearn.preprocessing import MinMaxScaler, OneHotEncoder\n",
    "import timeit\n",
    "import mlrose_hiive as mlrose\n",
    "\n"
   ]
  },
  {
   "cell_type": "code",
   "execution_count": 2,
   "metadata": {},
   "outputs": [
    {
     "data": {
      "text/plain": [
       "-1    4849\n",
       " 1    1001\n",
       "Name: cleave, dtype: int64"
      ]
     },
     "execution_count": 2,
     "metadata": {},
     "output_type": "execute_result"
    },
    {
     "data": {
      "image/png": "[encoded data removed]",
      "text/plain": [
       "<Figure size 432x288 with 1 Axes>"
      ]
     },
     "metadata": {
      "needs_background": "light"
     },
     "output_type": "display_data"
    }
   ],
   "source": [
    "# Dataset source:\n",
    "#http://archive.ics.uci.edu/ml/datasets/HIV-1+protease+cleavage#\n",
    "# combined all datasets, removing duplicates\n",
    "# Read in data\n",
    "data = pd.read_csv('../data/HIV_DataSet.csv', sep=',')\n",
    "\n",
    "\n",
    "sns.countplot(data['cleave']) # plot number of things with each value\n",
    "# number of negative cleave values versus positive.\n",
    "data['cleave'].value_counts(sort=True)"
   ]
  },
  {
   "cell_type": "code",
   "execution_count": 147,
   "metadata": {},
   "outputs": [],
   "source": [
    "# Tuning \n",
    "# Create training, testing, and validation sets\n",
    "\n",
    "X = data.drop('cleave', axis=1) # last value is the cleavage\n",
    "\n",
    "y = data['cleave']\n",
    "\n",
    "x_train, x_test, y_train, y_test = train_test_split(X, y, random_state=0, test_size=0.2) # 80/20 default\n",
    "\n",
    "# scale so it converges\n",
    "scaling = MinMaxScaler()\n",
    "x_train = scaling.fit_transform(x_train)\n",
    "x_test = scaling.transform(x_test)\n",
    "\n",
    "enc = OneHotEncoder(categories='auto')\n",
    "y_train = enc.fit_transform(y_train.values.reshape(-1, 1)).todense()\n",
    "y_test = enc.transform(y_test.values.reshape(-1, 1)).todense()\n",
    "\n",
    "\n"
   ]
  },
  {
   "cell_type": "code",
   "execution_count": 27,
   "metadata": {},
   "outputs": [
    {
     "data": {
      "text/plain": [
       "NeuralNetwork(activation='relu', algorithm='random_hill_climb', bias=True,\n",
       "              clip_max=10000000000.0, curve=False, early_stopping=True,\n",
       "              hidden_nodes=[5], is_classifier=True, learning_rate=0.001,\n",
       "              max_attempts=10, max_iters=300, mutation_prob=0.1, pop_size=200,\n",
       "              random_state=0, restarts=1,\n",
       "              schedule=GeomDecay(init_temp=1.0, decay=0.99, min_temp=0.001))"
      ]
     },
     "execution_count": 27,
     "metadata": {},
     "output_type": "execute_result"
    }
   ],
   "source": [
    "clf_rhc = mlrose.NeuralNetwork(algorithm='random_hill_climb',\n",
    "    hidden_nodes = [5], activation = 'relu', early_stopping=True, \n",
    "    random_state=0, is_classifier=True, bias=True)\n",
    "\n",
    "parameters = {'max_iters': [100, 200, 300],\n",
    "              'restarts': [1, 2, 3, 4, 5],\n",
    "              'max_attempts': [10, 20, 30, 40],\n",
    "              'learning_rate': [.001, .01, .1]}\n",
    "\n",
    "# Type of scoring used to compare parameter combinations\n",
    "acc_scorer = make_scorer(accuracy_score)\n",
    "\n",
    "# Run the grid search\n",
    "grid_obj = GridSearchCV(clf_rhc, parameters, scoring=acc_scorer, cv=5, n_jobs=4)\n",
    "grid_obj = grid_obj.fit(x_train, y_train)\n",
    "\n",
    "# Set the clf to the best combination of parameters\n",
    "clf_rhc = grid_obj.best_estimator_\n",
    "\n",
    "# Fit the best algorithm to the data. \n",
    "clf_rhc.fit(x_train, y_train)\n"
   ]
  },
  {
   "cell_type": "code",
   "execution_count": 5,
   "metadata": {},
   "outputs": [
    {
     "data": {
      "text/plain": [
       "NeuralNetwork(activation='relu', algorithm='simulated_annealing', bias=True,\n",
       "              clip_max=10000000000.0, curve=False, early_stopping=True,\n",
       "              hidden_nodes=[5], is_classifier=True, learning_rate=0.001,\n",
       "              max_attempts=20, max_iters=100, mutation_prob=0.1, pop_size=200,\n",
       "              random_state=0, restarts=0,\n",
       "              schedule=GeomDecay(init_temp=1.0, decay=0.99, min_temp=0.001))"
      ]
     },
     "execution_count": 5,
     "metadata": {},
     "output_type": "execute_result"
    }
   ],
   "source": [
    "clf_sa = mlrose.NeuralNetwork(algorithm='simulated_annealing',\n",
    "    hidden_nodes = [5], activation = 'relu', early_stopping=True, \n",
    "    random_state=0, is_classifier=True, bias=True)\n",
    "\n",
    "parameters = {'max_iters': [100, 200, 300],\n",
    "              'schedule': [mlrose.GeomDecay(), mlrose.ExpDecay()],\n",
    "              'max_attempts': [10, 20, 30, 40],\n",
    "              'learning_rate': [.001, .01, .1]}\n",
    "\n",
    "# Type of scoring used to compare parameter combinations\n",
    "acc_scorer = make_scorer(accuracy_score)\n",
    "\n",
    "# Run the grid search\n",
    "grid_obj = GridSearchCV(clf_sa, parameters, scoring=acc_scorer, cv=5, n_jobs=4)\n",
    "grid_obj = grid_obj.fit(x_train, y_train)\n",
    "\n",
    "# Set the clf to the best combination of parameters\n",
    "clf_sa = grid_obj.best_estimator_\n",
    "\n",
    "# Fit the best algorithm to the data. \n",
    "clf_sa.fit(x_train, y_train)"
   ]
  },
  {
   "cell_type": "code",
   "execution_count": 6,
   "metadata": {},
   "outputs": [
    {
     "data": {
      "text/plain": [
       "NeuralNetwork(activation='relu', algorithm='genetic_alg', bias=True,\n",
       "              clip_max=10000000000.0, curve=False, early_stopping=True,\n",
       "              hidden_nodes=[5], is_classifier=True, learning_rate=0.001,\n",
       "              max_attempts=10, max_iters=300, mutation_prob=0.3, pop_size=50,\n",
       "              random_state=0, restarts=0,\n",
       "              schedule=GeomDecay(init_temp=1.0, decay=0.99, min_temp=0.001))"
      ]
     },
     "execution_count": 6,
     "metadata": {},
     "output_type": "execute_result"
    }
   ],
   "source": [
    "clf_ga = mlrose.NeuralNetwork(algorithm='genetic_alg',\n",
    "    hidden_nodes = [5], activation = 'relu', early_stopping=True, \n",
    "    random_state=0, is_classifier=True, bias=True)\n",
    "\n",
    "parameters = {'max_iters': [100, 200, 300],\n",
    "              'pop_size': [50, 100, 200],\n",
    "              'mutation_prob': [.1, .2, .3],\n",
    "              'max_attempts': [10, 20, 30, 40],\n",
    "              'learning_rate': [.001, .01, .1]}\n",
    "\n",
    "# Type of scoring used to compare parameter combinations\n",
    "acc_scorer = make_scorer(accuracy_score)\n",
    "\n",
    "# Run the grid search\n",
    "grid_obj = GridSearchCV(clf_ga, parameters, scoring=acc_scorer, cv=5, n_jobs=4)\n",
    "grid_obj = grid_obj.fit(x_train, y_train)\n",
    "\n",
    "# Set the clf to the best combination of parameters\n",
    "clf_ga = grid_obj.best_estimator_\n",
    "\n",
    "# Fit the best algorithm to the data. \n",
    "clf_ga.fit(x_train, y_train)"
   ]
  },
  {
   "cell_type": "code",
   "execution_count": 160,
   "metadata": {},
   "outputs": [
    {
     "name": "stdout",
     "output_type": "stream",
     "text": [
      "random_hill_climb\n",
      "Y Train Acc\n",
      "0.8279914529914529\n",
      "Y Test Acc\n",
      "0.8273504273504273\n",
      "Confusion Matrix\n",
      "[[967   2]\n",
      " [200   1]]\n",
      "Balanced Accuracy\n",
      "0.5014555704449887\n",
      "\n",
      "simulated_annealing\n",
      "Y Train Acc\n",
      "0.20512820512820512\n",
      "Y Test Acc\n",
      "0.20512820512820512\n",
      "Confusion Matrix\n",
      "[[ 53 916]\n",
      " [ 14 187]]\n",
      "Balanced Accuracy\n",
      "0.4925219105709841\n",
      "\n",
      "genetic_alg\n",
      "Y Train Acc\n",
      "0.8143162393162393\n",
      "Y Test Acc\n",
      "0.8051282051282052\n",
      "Confusion Matrix\n",
      "[[940  29]\n",
      " [199   2]]\n",
      "Balanced Accuracy\n",
      "0.49001124408915175\n",
      "\n"
     ]
    },
    {
     "data": {
      "image/png": "[encoded data removed]",
      "text/plain": [
       "<Figure size 432x288 with 1 Axes>"
      ]
     },
     "metadata": {
      "needs_background": "light"
     },
     "output_type": "display_data"
    },
    {
     "data": {
      "image/png": "[encoded data removed]",
      "text/plain": [
       "<Figure size 432x288 with 1 Axes>"
      ]
     },
     "metadata": {
      "needs_background": "light"
     },
     "output_type": "display_data"
    },
    {
     "data": {
      "image/png": "[encoded data removed]",
      "text/plain": [
       "<Figure size 432x288 with 1 Axes>"
      ]
     },
     "metadata": {
      "needs_background": "light"
     },
     "output_type": "display_data"
    }
   ],
   "source": [
    "# optimizations from GridSearchCV\n",
    "algos = {\n",
    "    'random_hill_climb': \n",
    "    {'max_attempts': 20, 'max_iters': 50, 'mutation_prob': .1, 'pop_size': 200, 'restarts': 3},\n",
    "    'simulated_annealing': \n",
    "    {'max_attempts': 20, 'max_iters': 100, 'mutation_prob': .1, 'pop_size': 200, 'restarts': 0},\n",
    "    'genetic_alg': \n",
    "    {'max_attempts': 10, 'max_iters': 300, 'mutation_prob': .3, 'pop_size': 50, 'restarts': 0}}\n",
    "\n",
    "results = {'random_hill_climb':\n",
    "           {'time': None, 'weights': None, 'loss': None, 'pred_probs': None, 'fitness_curve': None},\n",
    "           'simulated_annealing': \n",
    "           {'time': None, 'weights': None, 'loss': None, 'pred_probs': None, 'fitness_curve': None},\n",
    "           'genetic_alg': \n",
    "           {'time': None, 'weights': None, 'loss': None, 'pred_probs': None, 'fitness_curve': None}\n",
    "          }\n",
    "for key, value in algos.items():\n",
    "    start = timeit.default_timer()\n",
    "    nn = mlrose.NeuralNetwork(\n",
    "        hidden_nodes = [5], activation = 'relu', curve=True,algorithm=key, \n",
    "        max_iters=value['max_iters'], restarts=value['restarts'],bias=True, \n",
    "        is_classifier=True, learning_rate=0.00001,pop_size=value['pop_size'],\n",
    "        early_stopping=True, clip_max=5, max_attempts=value['max_attempts'],\n",
    "        mutation_prob=value['mutation_prob'], random_state=0)\n",
    "    nn.fit(x_train, y_train)\n",
    "    end = timeit.default_timer() - start\n",
    "    results[key]['time'] = end\n",
    "\n",
    "    results[key]['weights'] = nn.fitted_weights\n",
    "    results[key]['loss'] = nn.loss\n",
    "    results[key]['pred_probs'] = nn.predicted_probs\n",
    "    results[key]['fitness_curve'] = nn.fitness_curve\n",
    "    \n",
    "    # Predict labels for train set and assess accuracy\n",
    "    y_train_pred = nn.predict(x_train)\n",
    "\n",
    "    y_train_accuracy = accuracy_score(y_train, y_train_pred)\n",
    "    print(key)\n",
    "    print(\"Y Train Acc\")\n",
    "    print(y_train_accuracy)\n",
    "\n",
    "\n",
    "    # Predict labels for test set and assess accuracy\n",
    "    y_test_pred = nn.predict(x_test)\n",
    "    \n",
    "    y_test_accuracy = accuracy_score(y_test, y_test_pred)\n",
    "    print(\"Y Test Acc\")\n",
    "    print(y_test_accuracy)\n",
    "    \n",
    "    # for unbalanced data\n",
    "    print('Confusion Matrix')\n",
    "    print(confusion_matrix(y_test.argmax(axis=1), y_test_pred.argmax(axis=1)))\n",
    "    print('Balanced Accuracy')\n",
    "    print(balanced_accuracy_score(y_test.argmax(axis=1), y_test_pred.argmax(axis=1)))\n",
    "    \n",
    "    print()\n",
    "        \n",
    "results = pd.DataFrame(results)\n",
    "plot_results(results)"
   ]
  },
  {
   "cell_type": "code",
   "execution_count": 132,
   "metadata": {},
   "outputs": [],
   "source": [
    "def plot_results(results):\n",
    "    # Plot Fitness vs Iters\n",
    "    for key, value in results.items():\n",
    "        # fitness curve at each training iteration\n",
    "        plt.plot(np.arange(1, len(value['fitness_curve']) + 1), value['fitness_curve'], label=key)\n",
    "        plt.title(key + ' Fitness Per Training Iteration')\n",
    "        plt.xlabel('Iteration')\n",
    "        plt.ylabel('Fitness')\n",
    "        plt.legend()\n",
    "        plt.savefig('../images/' + key + '_nnet_train_iter_v_fitness.png')\n",
    "        plt.show()\n",
    "        plt.clf()\n",
    "        plt.close()"
   ]
  }
 ],
 "metadata": {
  "kernelspec": {
   "display_name": "Python 3",
   "language": "python",
   "name": "python3"
  },
  "language_info": {
   "codemirror_mode": {
    "name": "ipython",
    "version": 3
   },
   "file_extension": ".py",
   "mimetype": "text/x-python",
   "name": "python",
   "nbconvert_exporter": "python",
   "pygments_lexer": "ipython3",
   "version": "3.7.6"
  }
 },
 "nbformat": 4,
 "nbformat_minor": 4
}
