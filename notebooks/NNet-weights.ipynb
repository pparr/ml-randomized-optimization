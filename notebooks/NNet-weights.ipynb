{
 "cells": [
  {
   "cell_type": "code",
   "execution_count": 20,
   "metadata": {},
   "outputs": [],
   "source": [
    "import pandas as pd\n",
    "import seaborn as sns\n",
    "import numpy as np\n",
    "import matplotlib.pyplot as plt\n",
    "from sklearn.neural_network import MLPClassifier\n",
    "from sklearn.model_selection import train_test_split, cross_validate\n",
    "from sklearn.metrics import accuracy_score, make_scorer, balanced_accuracy_score\n",
    "from sklearn.metrics import confusion_matrix, classification_report\n",
    "from sklearn.model_selection import GridSearchCV\n",
    "from sklearn.preprocessing import MinMaxScaler\n",
    "\n",
    "import mlrose\n",
    "\n"
   ]
  },
  {
   "cell_type": "code",
   "execution_count": 25,
   "metadata": {},
   "outputs": [
    {
     "data": {
      "text/plain": [
       "-1    4849\n",
       " 1    1001\n",
       "Name: cleave, dtype: int64"
      ]
     },
     "execution_count": 25,
     "metadata": {},
     "output_type": "execute_result"
    },
    {
     "data": {
      "image/png": "[encoded data removed]",
      "text/plain": [
       "<Figure size 432x288 with 1 Axes>"
      ]
     },
     "metadata": {
      "needs_background": "light"
     },
     "output_type": "display_data"
    }
   ],
   "source": [
    "# Dataset source:\n",
    "#http://archive.ics.uci.edu/ml/datasets/HIV-1+protease+cleavage#\n",
    "# combined all datasets, removing duplicates\n",
    "\n",
    "# Read in data\n",
    "data = pd.read_csv('../data/HIV_DataSet.csv', sep=',')\n",
    "\n",
    "sns.countplot(data['cleave']) # plot number of things with each value\n",
    "# number of negative cleave values versus positive.\n",
    "data['cleave'].value_counts(sort=True)"
   ]
  },
  {
   "cell_type": "code",
   "execution_count": 4,
   "metadata": {},
   "outputs": [],
   "source": [
    "# 'Frozen' NNet for Assignment 1\n",
    "clf = MLPClassifier(activation='relu', alpha=0.01, batch_size='auto', beta_1=0.9,\n",
    "              beta_2=0.999, early_stopping=True, epsilon=1e-08,\n",
    "              hidden_layer_sizes=5, learning_rate='constant',\n",
    "              learning_rate_init=0.001, max_fun=15000, max_iter=300,\n",
    "              momentum=0.9, n_iter_no_change=40, nesterovs_momentum=True,\n",
    "              power_t=0.5, random_state=0, shuffle=True, solver='adam',\n",
    "              tol=0.0001, validation_fraction=0.1, verbose=False,\n",
    "              warm_start=False)"
   ]
  },
  {
   "cell_type": "code",
   "execution_count": null,
   "metadata": {},
   "outputs": [],
   "source": [
    "# Tuning \n",
    "\n",
    "x_train, x_test, y_train, y_test = train_test_split(X, y, random_state=0, test_size=0.2) # 80/20 default\n",
    "\n",
    "# scale so it converges\n",
    "scaling = MinMaxScaler(feature_range=(-1,1)).fit(x_train)\n",
    "x_train = scaling.transform(x_train)\n",
    "x_test = scaling.transform(x_test)\n",
    "\n",
    "\n",
    "algos=[]'random_hill_climb', 'simulated_annealing', 'genetic_alg']\n",
    "\n",
    "clf = mlrose.NeuralNetwork(\n",
    "    hidden_nodes = [5], activation = 'relu', early_stopping=True, \n",
    "    random_state=0, is_classifier=True, bias=True)\n",
    "\n",
    "parameters = {'algorithm': algos,\n",
    "              'max_iters': 100 * np.arange(1, 3),\n",
    "              'restarts': [1, 2, 3, 4, 5, 6],\n",
    "              'max_attempts', 10 * np.arrange(1, 5)\n",
    "              'learning_rate': [.0001, .001, .1]\n",
    "             }\n",
    "\n",
    "# Type of scoring used to compare parameter combinations\n",
    "acc_scorer = make_scorer(accuracy_score)\n",
    "\n",
    "# Run the grid search\n",
    "grid_obj = GridSearchCV(clf, parameters, scoring=acc_scorer, cv=5, n_jobs=4)\n",
    "grid_obj = grid_obj.fit(x_train, y_train)\n",
    "\n",
    "# Set the clf to the best combination of parameters\n",
    "clf = grid_obj.best_estimator_\n",
    "\n",
    "# Fit the best algorithm to the data. \n",
    "clf.fit(x_train, y_train)"
   ]
  },
  {
   "cell_type": "code",
   "execution_count": 34,
   "metadata": {},
   "outputs": [
    {
     "name": "stdout",
     "output_type": "stream",
     "text": [
      "random_hill_climb\n",
      "random_hill_climb\n",
      "random_hill_climb\n",
      "random_hill_climb\n",
      "random_hill_climb\n",
      "random_hill_climb\n",
      "random_hill_climb\n",
      "genetic_alg\n",
      "genetic_alg\n",
      "genetic_alg\n",
      "genetic_alg\n",
      "genetic_alg\n",
      "genetic_alg\n",
      "genetic_alg\n",
      "simulated_annealing\n",
      "simulated_annealing\n",
      "simulated_annealing\n",
      "simulated_annealing\n",
      "simulated_annealing\n",
      "simulated_annealing\n",
      "simulated_annealing\n"
     ]
    }
   ],
   "source": [
    "# Cross val example https://piazza.com/class/k51r1vdohil5g3?cid=464\n",
    "\n",
    "# Create training, testing, and validation sets\n",
    "\n",
    "X = data.drop('cleave', axis=1) # last value is the cleavage\n",
    "y = data['cleave']\n",
    "\n",
    "# Initialize neural network object and fit object\n",
    "# Loosely based on https://towardsdatascience.com/fitting-a-neural-network-using-randomized-optimization-in-python-71595de4ad2d\n",
    "\n",
    "algos=[]'random_hill_climb', 'simulated_annealing', 'genetic_alg']\n",
    "train_sizes = [.3, .4, .5, .6, .7, .8, .9]\n",
    "results={'algo': [], 'train_size': [], 'train_acc': [], 'test_acc': [], 'cv_acc': []}\n",
    "\n",
    "for algo in algos:\n",
    "    for s in train_sizes:\n",
    "        x_train, x_test, y_train, y_test = train_test_split(X, y, random_state=0, train_size=s) # 80/20 default\n",
    "\n",
    "        # scale so it converges\n",
    "        scaling = MinMaxScaler(feature_range=(-1,1)).fit(x_train)\n",
    "        x_train = scaling.transform(x_train)\n",
    "        x_test = scaling.transform(x_test)\n",
    "        print(algo)\n",
    "        results['algo'].append(algo)\n",
    "        results['train_size'].append(s)\n",
    "        nn = mlrose.NeuralNetwork(hidden_nodes = [5], activation = 'relu',\n",
    "                                         algorithm = algo, max_iters=300, restarts=5,\n",
    "                                         bias=True, is_classifier=True, learning_rate=0.0001,\n",
    "                                         early_stopping=True, clip_max=5, max_attempts=40,\n",
    "                                  random_state=0)\n",
    "\n",
    "        nn.fit(x_train, y_train)\n",
    "\n",
    "        # Predict labels for train set and assess accuracy\n",
    "        y_train_pred = nn.predict(x_train)\n",
    "\n",
    "        y_train_accuracy = accuracy_score(y_train, y_train_pred)\n",
    "        results['train_acc'].append(y_train_accuracy)\n",
    "        #print(algo)\n",
    "        #print('Training accuracy: ', y_train_accuracy)\n",
    "\n",
    "        # Predict labels for test set and assess accuracy\n",
    "        y_test_pred = nn.predict(x_test)\n",
    "\n",
    "        y_test_accuracy = accuracy_score(y_test, y_test_pred)\n",
    "        results['test_acc'].append(y_test_accuracy)\n",
    "\n",
    "        #print('Test accuracy: ', y_test_accuracy)\n",
    "\n",
    "        cv_results = cross_validate(nn, x_train, y_train, cv=5)\n",
    "        results['cv_acc'].append(cv_results)\n",
    "        #print(cv_results)\n",
    "        \n",
    "results = pd.DataFrame(results)\n",
    "\n",
    "results.to_csv('results.csv')"
   ]
  }
 ],
 "metadata": {
  "kernelspec": {
   "display_name": "Python 3",
   "language": "python",
   "name": "python3"
  },
  "language_info": {
   "codemirror_mode": {
    "name": "ipython",
    "version": 3
   },
   "file_extension": ".py",
   "mimetype": "text/x-python",
   "name": "python",
   "nbconvert_exporter": "python",
   "pygments_lexer": "ipython3",
   "version": "3.7.6"
  }
 },
 "nbformat": 4,
 "nbformat_minor": 4
}
